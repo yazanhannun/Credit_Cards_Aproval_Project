{
 "cells": [
  {
   "cell_type": "markdown",
   "metadata": {},
   "source": [
    "1. Credit card applications\n",
    "\n",
    "Commercial banks receive a lot of applications for credit cards each year, but many of them are denied. There are many reasons why someone might not get approved for a credit card. They might have a poor credit score, no income, or too many debts already. Manually analyzing these applications is mundane, error-prone, and time-consuming (and time is money!). \n",
    "Luckily, this task can be automated with the power of machine learning and pretty much every commercial \n",
    "bank does so nowadays. In this notebook, we will build an automatic credit card approval predictor using \n",
    "machine learning techniques, just like the real banks do.\n",
    "\n",
    "<p><img src=\"https://assets.datacamp.com/production/project_558/img/credit_card.jpg\" alt=\"Credit card being held in hand\"></p>\n",
    "\n",
    "We'll use the Credit Card Approval dataset from the UCI Machine Learning Repository. The structure of this \n",
    "notebook is as follows:\n",
    "\n",
    "1) First, we will start off by loading and viewing the dataset.\n",
    "\n",
    "2) We will see that the dataset has a mixture of both numerical and non-numerical features, that it contains values \n",
    "from different ranges, plus that it contains a number of missing entries.\n",
    "\n",
    "3) We will have to preprocess the dataset to ensure the machine learning model we choose can make good predictions.\n",
    "After our data is in good shape, we will do some exploratory data analysis to build our intuitions.\n",
    "\n",
    "4) Finally, we will build a machine learning model that can predict if an individual's application for a credit \n",
    "card will be accepted.\n",
    "\n",
    "First, loading and viewing the dataset. We find that since this data is confidential, the contributor of the \n",
    "dataset has anonymized the feature names.\n",
    "\n",
    "[0:'Gender', 1:'Age', 2:'Debt', 3:'Married', 4:'BankCustomer', 5:'EducationLevel', 6:'Ethnicity', \n",
    "7:'YearsEmployed', 8:'PriorDefault', 9:'Employed', 10:'CreditScore', 11:'DriversLicense', 12:'Citizen',\n",
    "13:'ZipCode', 14:'Income', 15:'ApprovalStatus']'''\n",
    "\n"
   ]
  },
  {
   "cell_type": "code",
   "execution_count": null,
   "metadata": {},
   "outputs": [],
   "source": [
    "# Import pandas\n",
    "import pandas as pd\n",
    "\n",
    "# Load dataset\n",
    "cc_apps = pd.read_csv(\"cc_approvals.data\", header=None)\n",
    "\n",
    "# Inspect data\n",
    "print(cc_apps.head())\n"
   ]
  },
  {
   "cell_type": "markdown",
   "metadata": {},
   "source": [
    "2. Inspecting the applications\n",
    "\n",
    "The output may appear a bit confusing at its first sight, but let's try to figure out the most important \n",
    "features of a credit card application. The probable features in a typical credit card application are Gender, Age, Debt, Married, BankCustomer, EducationLevel, Ethnicity, YearsEmployed, PriorDefault, Employed, CreditScore, DriversLicense, Citizen, ZipCode, Income and finally the ApprovalStatus. This gives us a pretty good starting point, and we can map these features with respect to the columns in the output.\n",
    "\n",
    "As we can see from our first glance at the data, the dataset has a mixture of numerical and non-numerical \n",
    "features. This can be fixed with some preprocessing, but before we do that, let's learn about the dataset a\n",
    "bit more to see if there are other dataset issues that need to be fixed."
   ]
  },
  {
   "cell_type": "code",
   "execution_count": null,
   "metadata": {},
   "outputs": [],
   "source": [
    "# Print summary statistics\n",
    "cc_apps_description = cc_apps.describe()\n",
    "print(cc_apps_description)\n",
    "\n",
    "print('\\n')\n",
    "\n",
    "# Print DataFrame information\n",
    "cc_apps_info = cc_apps.info()\n",
    "print(cc_apps_info)\n",
    "\n",
    "print('\\n')\n",
    "\n",
    "# Inspect missing values in the dataset\n",
    "cc_apps.tail(17)"
   ]
  },
  {
   "cell_type": "markdown",
   "metadata": {},
   "source": [
    "3. Drop unimportant features in the dataset\n",
    "\n",
    "In the dataset many features will be used in the prediction of an applicationt status, but few features such as 12:'Citizen', 13:'ZipCode' will not be important to predict the status. For this raeson it will be effective if we drop features like these."
   ]
  },
  {
   "cell_type": "code",
   "execution_count": null,
   "metadata": {},
   "outputs": [],
   "source": [
    "# Drop the features 11 and 13\n",
    "cc_apps = cc_apps.drop([11, 13], axis=1)\n",
    "\n",
    "# Inspect data after droping\n",
    "print(cc_apps.head())"
   ]
  },
  {
   "cell_type": "markdown",
   "metadata": {},
   "source": [
    "4. Handling the missing values (part 1)\n",
    "\n",
    "After Droping unimportant features, we can handle some of the issues we identified when inspecting the DataFrame, \n",
    "including:\n",
    "\n",
    "- Our dataset contains both numeric and non-numeric data (specifically data that are of float64, int64 and \n",
    "  object types). Specifically, the features 2, 7, 10 and 14 contain numeric values \n",
    "  (of types float64, float64, int64 and int64 respectively) and all the other features contain non-numeric values.\n",
    "\n",
    "- The dataset also contains values from several ranges. Some features have a value range of 0 - 28, some have a \n",
    "  range of 2 - 67, and some have a range of 1017 - 100000. Apart from these, we can get useful statistical \n",
    "  information (like mean, max, and min) about the features that have numerical values.\n",
    "\n",
    "\n",
    "- Finally, the dataset has missing values, which we'll take care of in this task. The missing values in the \n",
    "  dataset are labeled with '?', which can be seen in the last cell's output of the second task.\n",
    "\n",
    "Now, let's temporarily replace these missing value question marks with NaN.'''\n"
   ]
  },
  {
   "cell_type": "code",
   "execution_count": null,
   "metadata": {},
   "outputs": [],
   "source": [
    "# Import numpy\n",
    "import numpy as np\n",
    "\n",
    "# Replace the '?'s with NaN in the train and test sets\n",
    "cc_apps = cc_apps.replace('?', np.nan)\n",
    "print(cc_apps.isna().sum())"
   ]
  },
  {
   "cell_type": "markdown",
   "metadata": {},
   "source": [
    "5. Handling the missing values in numerical features (part 2)\n",
    "\n",
    "We replaced all the question marks with NaNs. This is going to help us in the next missing value treatment that \n",
    "we are going to perform.\n",
    "\n",
    "An important question that gets raised here is why are we giving so much importance to missing values? \n",
    "Can't they be just ignored? Ignoring missing values can affect the performance of a machine learning model \n",
    "heavily. While ignoring the missing values our machine learning model may miss out on information about the \n",
    "dataset that may be useful for its training.\n",
    "\n",
    "So, to avoid this problem, we are going to impute the missing values with a strategy called mean imputation.\n",
    "\n",
    "We are going to impute missing values in numerical features using mean imputation."
   ]
  },
  {
   "cell_type": "code",
   "execution_count": null,
   "metadata": {},
   "outputs": [],
   "source": [
    "# Impute the missing values with mean imputation\n",
    "cc_apps.fillna(cc_apps[[2, 7, 10, 14]].mean(), inplace=True)\n",
    "\n",
    "# Count the number of NaNs in the datasets and print the counts to verify\n",
    "print(cc_apps.isna().sum())"
   ]
  },
  {
   "cell_type": "markdown",
   "metadata": {},
   "source": [
    "6. Handling the missing values in non-numerical features (part 3)\n",
    "\n",
    "We have successfully taken care of the missing values present in the numeric columns. There are still some \n",
    "missing values to be imputed for columns 0, 1, 3, 4, 5, 6 and 13. All of these columns contain non-numeric \n",
    "data and this is why the mean imputation strategy would not work here. This needs a different treatment.\n",
    "\n",
    "We are going to impute these missing values with the most frequent values as present in the respective columns. \n",
    "This is good practice when it comes to imputing missing values for categorical data in general."
   ]
  },
  {
   "cell_type": "code",
   "execution_count": null,
   "metadata": {},
   "outputs": [],
   "source": [
    "# Iterate over each column of cc_apps_train\n",
    "for col in cc_apps.columns:\n",
    " # Check if the column is of object type\n",
    " if cc_apps[col].dtypes == 'object':\n",
    "  # Impute with the most frequent value\n",
    "  cc_apps = cc_apps.fillna(cc_apps[col].value_counts().index[0])\n",
    "  \n",
    "\n",
    "# Count the number of NaNs in the dataset and print the counts to verify\n",
    "print(cc_apps.isnull().sum())"
   ]
  },
  {
   "cell_type": "markdown",
   "metadata": {},
   "source": [
    "7. Preprocessing the data (part 1)\n",
    "\n",
    "The missing values are now successfully handled.\n",
    "\n",
    "There is still some minor but essential data preprocessing needed before we proceed towards building our \n",
    "machine learning model. We are going to divide these remaining preprocessing steps into two main tasks:\n",
    "\n",
    "- Convert the non-numeric data into numeric.\n",
    "- Scale the feature values to a uniform range.\n",
    "\n",
    "First, we will be converting all the non-numeric values into numeric ones. We do this because not only it \n",
    "results in a faster computation but also many machine learning models (and especially the ones developed \n",
    "using scikit-learn) require the data to be in a strictly numeric format. We will do this by using the \n",
    "LabelEncoder method from sklearn."
   ]
  },
  {
   "cell_type": "code",
   "execution_count": null,
   "metadata": {},
   "outputs": [],
   "source": [
    "# Import LabelEncoder\n",
    "from sklearn.preprocessing import LabelEncoder\n",
    "from sklearn.model_selection import train_test_split\n",
    "\n",
    "# Instantiate LabelEncoder\n",
    "le = LabelEncoder()\n",
    "\n",
    "# Iterate over all the values of each column and extract their dtypes\n",
    "for col in cc_apps.columns:\n",
    " # Compare if the dtype is object\n",
    " if cc_apps[col].dtypes=='object':\n",
    " # Use LabelEncoder to do the numeric transformation\n",
    "  cc_apps[col]=le.fit_transform(cc_apps[col])\n",
    "\n",
    "print(cc_apps.head())\n",
    "\n",
    "# Since our values for targeted one after label encoder '+' will be 0 and '-' will be 1, this logically not \n",
    "# accepted for this reason we will reverse this issue using for loop\n",
    "\n",
    "for i in range(0, 690):\n",
    "    if cc_apps.iloc[i, 13] == 1:\n",
    "        cc_apps.iloc[i, 13] = 0\n",
    "    else:\n",
    "        cc_apps.iloc[i, 13] = 1\n",
    "\n",
    "print(cc_apps.head())\n",
    "\n",
    "# Split the data into train and test data\n",
    "cc_apps_train, cc_apps_test = train_test_split(cc_apps, test_size=0.33, random_state=42)"
   ]
  },
  {
   "cell_type": "markdown",
   "metadata": {},
   "source": [
    "8. Preprocessing the data (part 2)\n",
    "\n",
    "Now, we are only left with one final preprocessing step of scaling before we can fit a machine learning model \n",
    "to the data.\n",
    "\n",
    "Now, let's try to understand what these scaled values mean in the real world. Let's use CreditScore as an example. \n",
    "The credit score of a person is their creditworthiness based on their credit history. The higher this number, \n",
    "the more financially trustworthy a person is considered to be. So, a CreditScore of 1 is the highest since \n",
    "we're rescaling all the values to the range of 0-1."
   ]
  },
  {
   "cell_type": "code",
   "execution_count": null,
   "metadata": {},
   "outputs": [],
   "source": [
    "# Import MinMaxScaler\n",
    "from sklearn.preprocessing import MinMaxScaler\n",
    "\n",
    "# Segregate features and labels into separate variables\n",
    "X_train = cc_apps_train.iloc[:, :-1].values\n",
    "y_train = cc_apps_train.iloc[:, [-1]].values\n",
    "X_test = cc_apps_test.iloc[:, :-1].values\n",
    "y_test =  cc_apps_test.iloc[:, [-1]].values\n",
    "\n",
    "#Instantiate MinMaxScaler and use it to rescale X_train and X_test\n",
    "scaler = MinMaxScaler(feature_range=(0, 1))\n",
    "rescaledX_train = scaler.fit_transform(X_train)\n",
    "rescaledX_test = scaler.fit_transform(X_test)\n",
    "\n",
    "# Reshape the y_train and y_test\n",
    "y_train = y_train.reshape((462, ))\n",
    "y_test = y_test.reshape((228, ))"
   ]
  },
  {
   "cell_type": "markdown",
   "metadata": {},
   "source": [
    "9. Fitting a logistic regression \n",
    "\n",
    "Essentially, predicting if a credit card application will be approved or not is a classification task. \n",
    "According to UCI, our dataset contains more instances that correspond to \"Denied\" status than instances \n",
    "corresponding to \"Approved\" status. Specifically, out of 690 instances, there are 383 (55.5%) applications \n",
    "that got denied and 307 (44.5%) applications that got approved.\n",
    "\n",
    "This gives us a benchmark. A good machine learning model should be able to accurately predict the status of \n",
    "the applications with respect to these statistics.\n",
    "\n",
    "Which model should we pick? A question to ask is: are the features that affect the credit card approval decision \n",
    "process correlated with each other? since the output should be labeled a classification model should be picked, \n",
    "for this reason we will try to use two classification models and evaluate their performance and then choose the \n",
    "best performing one. The two models are Logistic Regression and KNeighborsClassifier.\n",
    "\n",
    "But how well does our model perform?\n",
    "\n",
    "We will now evaluate our model on the test set with respect to classification accuracy. But we will also take a \n",
    "look at the model's confusion matrix. In the case of predicting credit card applications, it is important to see \n",
    "if our machine learning model is equally capable of predicting approved and denied status, in line with the \n",
    "frequency of these labels in our original dataset. If our model is not performing well in this aspect, then \n",
    "it might end up approving the application that should have been approved. The confusion matrix helps us to \n",
    "view our model's performance from these aspects."
   ]
  },
  {
   "cell_type": "code",
   "execution_count": null,
   "metadata": {},
   "outputs": [],
   "source": [
    "# Import LogisticRegression\n",
    "from sklearn.linear_model import LogisticRegression\n",
    "\n",
    "# Instantiate a LogisticRegression with default parameter values\n",
    "logreg = LogisticRegression()\n",
    "\n",
    "# Fit logreg to the train set\n",
    "logreg.fit(rescaledX_train, y_train)\n",
    "\n",
    "# Import confusion_matrix\n",
    "from sklearn.metrics import classification_report, confusion_matrix\n",
    "\n",
    "# Use logreg to predict instances from the test set and store it\n",
    "y_pred = logreg.predict(rescaledX_test)\n",
    "\n",
    "# Get the accuracy score of logreg model and print it\n",
    "print(\"Accuracy of LogisticRegression for train data: \", logreg.score(rescaledX_train, y_train))\n",
    "\n",
    "# Print the confusion matrix of the logreg model for test data\n",
    "print(\"Accuracy of LogisticRegression for test data: \", logreg.score(rescaledX_test, y_test))\n",
    "print(confusion_matrix(y_test, y_pred))\n",
    "print(classification_report(y_test, y_pred))"
   ]
  },
  {
   "cell_type": "markdown",
   "metadata": {},
   "source": [
    "10. Fitting a KNeighborsClassifier "
   ]
  },
  {
   "cell_type": "code",
   "execution_count": null,
   "metadata": {},
   "outputs": [],
   "source": [
    "# Import KNeighborsClassifier\n",
    "from sklearn.neighbors import KNeighborsClassifier\n",
    "\n",
    "# Instantiate a KNeighborsClassifier with default parameter values\n",
    "knn = KNeighborsClassifier(n_neighbors=8)\n",
    "\n",
    "# Fit knn to the train set\n",
    "knn.fit(rescaledX_train, y_train)\n",
    "\n",
    "# Import confusion_matrix\n",
    "from sklearn.metrics import classification_report, confusion_matrix\n",
    "\n",
    "# Use knn to predict instances from the test set and store it\n",
    "y_pred = knn.predict(rescaledX_test)\n",
    "\n",
    "\n",
    "# Get the accuracy score of knn model and print it\n",
    "print(\"Accuracy of KNeighborsClassifier for train data: \", knn.score(rescaledX_train, y_train))\n",
    "\n",
    "\n",
    "# Print the confusion matrix of the knn model for test data\n",
    "print(\"Accuracy of KNeighborsClassifier for test data: \", knn.score(rescaledX_test, y_test))\n",
    "print(confusion_matrix(y_test, y_pred))\n",
    "print(classification_report(y_test, y_pred))\n",
    "\n",
    "#-----------Ploting the train and test accuracy of KNN model----------------#\n",
    "\n",
    "train_accuracies = {}\n",
    "test_accuracies = {}\n",
    "neighbors = np.arange(1, 26)\n",
    "for neighbor in neighbors:\n",
    "   knn = KNeighborsClassifier(n_neighbors=neighbor)\n",
    "   knn.fit(rescaledX_train, y_train)\n",
    "   train_accuracies[neighbor] = knn.score(rescaledX_train, y_train)\n",
    "   test_accuracies[neighbor] = knn.score(rescaledX_test, y_test)\n",
    "\n",
    "import matplotlib.pyplot as plt\n",
    "\n",
    "plt.figure(figsize=(8, 6))\n",
    "plt.title(\"KNN: Varying Number of Neighbors\")\n",
    "plt.plot(neighbors, train_accuracies.values(), label=\"Training Accuracy\")\n",
    "plt.plot(neighbors, test_accuracies.values(), label=\"Testing Accuracy\")\n",
    "plt.legend()\n",
    "plt.xlabel(\"Number of Neighbors\")\n",
    "plt.ylabel(\"Accuracy\")\n",
    "plt.show()"
   ]
  },
  {
   "cell_type": "markdown",
   "metadata": {},
   "source": [
    "11.Evaluating classification models performance"
   ]
  },
  {
   "cell_type": "code",
   "execution_count": null,
   "metadata": {},
   "outputs": [],
   "source": [
    "import matplotlib.pyplot as plt\n",
    "from sklearn.preprocessing import StandardScaler\n",
    "from sklearn.model_selection import cross_val_score, KFold, train_test_split\n",
    "from sklearn.neighbors import KNeighborsClassifier\n",
    "from sklearn.linear_model import LogisticRegression\n",
    "\n",
    "models = {\"Logistic Regression\": LogisticRegression(), \"KNN\": KNeighborsClassifier(n_neighbors=8)}\n",
    "\n",
    "results = []\n",
    "\n",
    "for model in models.values():\n",
    " kf = KFold(n_splits=6, random_state=42, shuffle=True)\n",
    " cv_results = cross_val_score(model, rescaledX_train, y_train, cv=kf)\n",
    " results.append(cv_results)\n",
    "\n",
    "print(results)\n",
    "plt.boxplot(results, labels=models.keys())\n",
    "plt.ylabel('Accuracy')\n",
    "plt.show()"
   ]
  },
  {
   "cell_type": "markdown",
   "metadata": {},
   "source": [
    "12. Hyper Tuning our models \n",
    "\n",
    "In this part we are going to use the GridSearchCV method to try to find the parameters that our our models performing \n",
    "better using them."
   ]
  },
  {
   "cell_type": "markdown",
   "metadata": {},
   "source": [
    "12.1 Hypertuning LogisticRegression"
   ]
  },
  {
   "cell_type": "code",
   "execution_count": null,
   "metadata": {},
   "outputs": [],
   "source": [
    "from sklearn.linear_model import LogisticRegression\n",
    "from sklearn.model_selection import GridSearchCV\n",
    "from sklearn.model_selection import cross_val_score\n",
    "from sklearn.model_selection import KFold\n",
    "from sklearn.metrics import classification_report, confusion_matrix\n",
    "\n",
    "# Define the grid of values for tol and max_iter\n",
    "tol = [0.01,0.001,0.0001]\n",
    "max_iter = [100,150,200]\n",
    "\n",
    "# Create a dictionary where tol and max_iter are keys and the lists of their values are corresponding values\n",
    "param_grid = dict(tol = tol, max_iter = max_iter)\n",
    "logreg = LogisticRegression()\n",
    "kf = KFold(n_splits=6, shuffle=True, random_state=42)\n",
    "\n",
    "# Instantiate GridSearchCV with the required parameters\n",
    "grid_model = GridSearchCV(logreg, param_grid=param_grid, cv=kf)\n",
    "\n",
    "# Fit data to grid_model\n",
    "grid_model_result = grid_model.fit(rescaledX_train, y_train)\n",
    "\n",
    "y_pred = grid_model.predict(rescaledX_test)\n",
    "\n",
    "# Summarize results\n",
    "best_score, best_params = grid_model_result.best_score_, grid_model_result.best_params_\n",
    "print(\"Best: %f using %s\" % (best_score, best_params))\n",
    "print(confusion_matrix(y_test, y_pred))\n",
    "print(classification_report(y_test, y_pred))\n"
   ]
  },
  {
   "cell_type": "markdown",
   "metadata": {},
   "source": [
    "12.1 Hypertuning KNeighborsClassifier"
   ]
  },
  {
   "cell_type": "code",
   "execution_count": null,
   "metadata": {},
   "outputs": [],
   "source": [
    "from sklearn.neighbors import KNeighborsClassifier\n",
    "from sklearn.model_selection import GridSearchCV\n",
    "from sklearn.model_selection import cross_val_score\n",
    "from sklearn.model_selection import KFold\n",
    "from sklearn.metrics import classification_report, confusion_matrix\n",
    "\n",
    "knn = KNeighborsClassifier()\n",
    "k_range = list(range(1, 27))\n",
    "param_grid = dict(n_neighbors=k_range)\n",
    "kf = KFold(n_splits=6, shuffle=True, random_state=42) \n",
    "\n",
    "# defining parameter range\n",
    "grid = GridSearchCV(knn, param_grid, cv=kf, scoring='accuracy', return_train_score=False, verbose=1)\n",
    "\n",
    "# fitting the model for grid search\n",
    "grid_search=grid.fit(rescaledX_train, y_train)\n",
    "\n",
    "# fitting the model for grid search\n",
    "print(grid.best_params_, grid.best_score_)\n",
    "\n",
    "# Evaluating on the test set\n",
    "y_pred = grid.predict(rescaledX_test)\n",
    "\n",
    "# Summarize results\n",
    "best_score, best_params = grid.best_score_, grid.best_params_\n",
    "print(\"Best: %f using %s\" % (best_score, best_params))\n",
    "print(confusion_matrix(y_test, y_pred))\n",
    "print(classification_report(y_test, y_pred))\n"
   ]
  },
  {
   "cell_type": "markdown",
   "metadata": {},
   "source": [
    "13 Evaluating classification models performance after hyper tuning"
   ]
  },
  {
   "cell_type": "code",
   "execution_count": null,
   "metadata": {},
   "outputs": [],
   "source": [
    "import matplotlib.pyplot as plt\n",
    "from sklearn.preprocessing import StandardScaler\n",
    "from sklearn.model_selection import cross_val_score, KFold, train_test_split\n",
    "from sklearn.neighbors import KNeighborsClassifier\n",
    "from sklearn.linear_model import LogisticRegression\n",
    "\n",
    "models = {\"Logistic Regression\": LogisticRegression(max_iter=100, tol= 0.01), \"KNN\": KNeighborsClassifier(n_neighbors=22)}\n",
    "\n",
    "results = []\n",
    "\n",
    "for model in models.values():\n",
    " kf = KFold(n_splits=6, random_state=42, shuffle=True)\n",
    " cv_results = cross_val_score(model, rescaledX_train, y_train, cv=kf)\n",
    " results.append(cv_results)\n",
    "\n",
    "print(results)\n",
    "plt.boxplot(results, labels=models.keys())\n",
    "plt.ylabel('Accuracy')\n",
    "plt.show()"
   ]
  },
  {
   "cell_type": "markdown",
   "metadata": {},
   "source": [
    "Result: \n",
    "\n",
    "The KNN model at n_neighbors = 8 was performaing better even after using grid search compared to\n",
    "LogisticRegression before and after Hyper Tunning.\n",
    "\n",
    "- I will choose the KNN model in setion 10 as my model\n",
    "\n",
    "- I have saved my model in model.py file which contains the KNN model\n",
    "\n",
    "Note: see technical report for more datails"
   ]
  }
 ],
 "metadata": {
  "kernelspec": {
   "display_name": "Python 3.10.4 64-bit",
   "language": "python",
   "name": "python3"
  },
  "language_info": {
   "codemirror_mode": {
    "name": "ipython",
    "version": 3
   },
   "file_extension": ".py",
   "mimetype": "text/x-python",
   "name": "python",
   "nbconvert_exporter": "python",
   "pygments_lexer": "ipython3",
   "version": "3.10.4"
  },
  "orig_nbformat": 4,
  "vscode": {
   "interpreter": {
    "hash": "3c4324e449bbf0fff78bf9a27450396ffd0b5483ce210e6604fdf3f56635d4e2"
   }
  }
 },
 "nbformat": 4,
 "nbformat_minor": 2
}
